{
 "cells": [
  {
   "cell_type": "markdown",
   "metadata": {},
   "source": [
    "# XML example and exercise\n",
    "****\n",
    "+ study examples of accessing nodes in XML tree structure  \n",
    "+ work on exercise to be completed and submitted\n",
    "****\n",
    "+ reference: https://docs.python.org/2.7/library/xml.etree.elementtree.html\n",
    "+ data source: http://www.dbis.informatik.uni-goettingen.de/Mondial\n",
    "****"
   ]
  },
  {
   "cell_type": "code",
   "execution_count": 1,
   "metadata": {
    "collapsed": true
   },
   "outputs": [],
   "source": [
    "from xml.etree import ElementTree as ET"
   ]
  },
  {
   "cell_type": "markdown",
   "metadata": {},
   "source": [
    "## XML example\n",
    "\n",
    "+ for details about tree traversal and iterators, see https://docs.python.org/2.7/library/xml.etree.elementtree.html"
   ]
  },
  {
   "cell_type": "code",
   "execution_count": 2,
   "metadata": {
    "collapsed": false
   },
   "outputs": [],
   "source": [
    "document_tree = ET.parse( './data/mondial_database_less.xml' )"
   ]
  },
  {
   "cell_type": "code",
   "execution_count": 3,
   "metadata": {
    "collapsed": false
   },
   "outputs": [
    {
     "name": "stdout",
     "output_type": "stream",
     "text": [
      "Albania\n",
      "Greece\n",
      "Macedonia\n",
      "Serbia\n",
      "Montenegro\n",
      "Kosovo\n",
      "Andorra\n"
     ]
    }
   ],
   "source": [
    "# print names of all countries\n",
    "for child in document_tree.getroot():\n",
    "    print(child.find('name').text)"
   ]
  },
  {
   "cell_type": "code",
   "execution_count": 4,
   "metadata": {
    "collapsed": false
   },
   "outputs": [
    {
     "name": "stdout",
     "output_type": "stream",
     "text": [
      "* Albania:\n",
      "Tirana, Shkodër, Durrës, Vlorë, Elbasan, Korçë\n",
      "* Greece:\n",
      "Komotini, Kavala, Athina, Peiraias, Peristeri, Acharnes, Patra, Kozani, Kerkyra, Ioannina, Thessaloniki, Iraklio, Chania, Ermoupoli, Rhodes, Tripoli, Lamia, Chalkida, Larissa, Volos, Mytilini, Karyes\n",
      "* Macedonia:\n",
      "Skopje, Kumanovo\n",
      "* Serbia:\n",
      "Beograd, Novi Sad, Niš\n",
      "* Montenegro:\n",
      "Podgorica\n",
      "* Kosovo:\n",
      "Prishtine\n",
      "* Andorra:\n",
      "Andorra la Vella\n"
     ]
    }
   ],
   "source": [
    "# print names of all countries and their cities\n",
    "for element in document_tree.iterfind('country'):\n",
    "    print('* ' + element.find('name').text + ':',)\n",
    "    capitals_string = ''\n",
    "    for subelement in element.getiterator('city'):\n",
    "        capitals_string += subelement.find('name').text + ', '\n",
    "    print (capitals_string[:-2])"
   ]
  },
  {
   "cell_type": "markdown",
   "metadata": {},
   "source": [
    "****\n",
    "## XML Exercise\n",
    "\n",
    "Using data in 'data/mondial_database.xml', the examples above, and refering to https://docs.python.org/2.7/library/xml.etree.elementtree.html, find\n",
    "\n",
    "1. 10 countries with the lowest infant mortality rates\n",
    "2. 10 cities with the largest population\n",
    "3. 10 ethnic groups with the largest overall populations (sum of best/latest estimates over all countries)\n",
    "4. name and country of a) longest river, b) largest lake and c) airport at highest elevation"
   ]
  },
  {
   "cell_type": "markdown",
   "metadata": {},
   "source": [
    "###### Question 1 : 10 countries with the lowest infant mortality rates\n",
    " "
   ]
  },
  {
   "cell_type": "markdown",
   "metadata": {},
   "source": [
    "###### Question 1 : 10 contries with the lowest infant mortality rates\n",
    "To demonstrate this We need country name and infant_mortality.The tag infant_mortality is under the country label.From the tree pull out these two and insert into DataFrame.Sort the values in DataFrame then reset the Index and finally view top 10 records "
   ]
  },
  {
   "cell_type": "code",
   "execution_count": 5,
   "metadata": {
    "collapsed": false
   },
   "outputs": [],
   "source": [
    "# Load libraries\n",
    "from xml.etree import ElementTree as ET\n",
    "import pandas as pd\n",
    "\n",
    "# Load data\n",
    "document = ET.parse( './data/mondial_database.xml' )\n",
    "root = document.getroot()"
   ]
  },
  {
   "cell_type": "code",
   "execution_count": 6,
   "metadata": {
    "collapsed": false
   },
   "outputs": [
    {
     "data": {
      "text/html": [
       "<div>\n",
       "<table border=\"1\" class=\"dataframe\">\n",
       "  <thead>\n",
       "    <tr style=\"text-align: right;\">\n",
       "      <th></th>\n",
       "      <th>Country</th>\n",
       "      <th>Infant_mortality</th>\n",
       "    </tr>\n",
       "  </thead>\n",
       "  <tbody>\n",
       "    <tr>\n",
       "      <th>0</th>\n",
       "      <td>Albania</td>\n",
       "      <td>13.19</td>\n",
       "    </tr>\n",
       "    <tr>\n",
       "      <th>1</th>\n",
       "      <td>Greece</td>\n",
       "      <td>4.78</td>\n",
       "    </tr>\n",
       "    <tr>\n",
       "      <th>2</th>\n",
       "      <td>Macedonia</td>\n",
       "      <td>7.90</td>\n",
       "    </tr>\n",
       "    <tr>\n",
       "      <th>3</th>\n",
       "      <td>Serbia</td>\n",
       "      <td>6.16</td>\n",
       "    </tr>\n",
       "    <tr>\n",
       "      <th>4</th>\n",
       "      <td>Andorra</td>\n",
       "      <td>3.69</td>\n",
       "    </tr>\n",
       "  </tbody>\n",
       "</table>\n",
       "</div>"
      ],
      "text/plain": [
       "     Country  Infant_mortality\n",
       "0    Albania             13.19\n",
       "1     Greece              4.78\n",
       "2  Macedonia              7.90\n",
       "3     Serbia              6.16\n",
       "4    Andorra              3.69"
      ]
     },
     "execution_count": 6,
     "metadata": {},
     "output_type": "execute_result"
    }
   ],
   "source": [
    "# print names of all countries and their infant mortality rate\n",
    "data = []\n",
    "for country in document.iterfind('country'):\n",
    "    c = country.find('name').text\n",
    "    infant_mortality = country.find('infant_mortality')\n",
    "    # take the existing infant_mortality data with respective country and put it in a dataframe\n",
    "    if(infant_mortality != None):\n",
    "        infant = float(infant_mortality.text)\n",
    "        data.append({'Country':c,'Infant_mortality':infant})\n",
    "    \n",
    "df = pd.DataFrame(data)\n",
    "df.head()"
   ]
  },
  {
   "cell_type": "code",
   "execution_count": 7,
   "metadata": {
    "collapsed": false
   },
   "outputs": [
    {
     "data": {
      "text/html": [
       "<div>\n",
       "<table border=\"1\" class=\"dataframe\">\n",
       "  <thead>\n",
       "    <tr style=\"text-align: right;\">\n",
       "      <th></th>\n",
       "      <th>Country</th>\n",
       "      <th>Infant_mortality</th>\n",
       "    </tr>\n",
       "  </thead>\n",
       "  <tbody>\n",
       "    <tr>\n",
       "      <th>0</th>\n",
       "      <td>Monaco</td>\n",
       "      <td>1.81</td>\n",
       "    </tr>\n",
       "    <tr>\n",
       "      <th>1</th>\n",
       "      <td>Japan</td>\n",
       "      <td>2.13</td>\n",
       "    </tr>\n",
       "    <tr>\n",
       "      <th>2</th>\n",
       "      <td>Bermuda</td>\n",
       "      <td>2.48</td>\n",
       "    </tr>\n",
       "    <tr>\n",
       "      <th>3</th>\n",
       "      <td>Norway</td>\n",
       "      <td>2.48</td>\n",
       "    </tr>\n",
       "    <tr>\n",
       "      <th>4</th>\n",
       "      <td>Singapore</td>\n",
       "      <td>2.53</td>\n",
       "    </tr>\n",
       "    <tr>\n",
       "      <th>5</th>\n",
       "      <td>Sweden</td>\n",
       "      <td>2.60</td>\n",
       "    </tr>\n",
       "    <tr>\n",
       "      <th>6</th>\n",
       "      <td>Czech Republic</td>\n",
       "      <td>2.63</td>\n",
       "    </tr>\n",
       "    <tr>\n",
       "      <th>7</th>\n",
       "      <td>Hong Kong</td>\n",
       "      <td>2.73</td>\n",
       "    </tr>\n",
       "    <tr>\n",
       "      <th>8</th>\n",
       "      <td>Macao</td>\n",
       "      <td>3.13</td>\n",
       "    </tr>\n",
       "    <tr>\n",
       "      <th>9</th>\n",
       "      <td>Iceland</td>\n",
       "      <td>3.15</td>\n",
       "    </tr>\n",
       "  </tbody>\n",
       "</table>\n",
       "</div>"
      ],
      "text/plain": [
       "          Country  Infant_mortality\n",
       "0          Monaco              1.81\n",
       "1           Japan              2.13\n",
       "2         Bermuda              2.48\n",
       "3          Norway              2.48\n",
       "4       Singapore              2.53\n",
       "5          Sweden              2.60\n",
       "6  Czech Republic              2.63\n",
       "7       Hong Kong              2.73\n",
       "8           Macao              3.13\n",
       "9         Iceland              3.15"
      ]
     },
     "execution_count": 7,
     "metadata": {},
     "output_type": "execute_result"
    }
   ],
   "source": [
    "#Sort the values then reset the Index and finally view top 10 records\n",
    "#Generate top 10 countries with lowest Infant_mortality rates\n",
    "df.sort_values('Infant_mortality').reset_index(drop=True).head(10)"
   ]
  },
  {
   "cell_type": "markdown",
   "metadata": {},
   "source": [
    "###### Question 2:  10 cities with the largest population\n",
    "\n",
    "From the tree pull out city,population and year through iteration and append this into a DataFrame.Sort the values ,reset the index and view top cities"
   ]
  },
  {
   "cell_type": "code",
   "execution_count": 8,
   "metadata": {
    "collapsed": false
   },
   "outputs": [
    {
     "data": {
      "text/html": [
       "<div>\n",
       "<table border=\"1\" class=\"dataframe\">\n",
       "  <thead>\n",
       "    <tr style=\"text-align: right;\">\n",
       "      <th></th>\n",
       "      <th>Cities</th>\n",
       "      <th>Population</th>\n",
       "      <th>Year</th>\n",
       "    </tr>\n",
       "  </thead>\n",
       "  <tbody>\n",
       "    <tr>\n",
       "      <th>0</th>\n",
       "      <td>Tirana, Albania</td>\n",
       "      <td>418495</td>\n",
       "      <td>2011</td>\n",
       "    </tr>\n",
       "    <tr>\n",
       "      <th>1</th>\n",
       "      <td>Shkodër, Albania</td>\n",
       "      <td>77075</td>\n",
       "      <td>2011</td>\n",
       "    </tr>\n",
       "    <tr>\n",
       "      <th>2</th>\n",
       "      <td>Durrës, Albania</td>\n",
       "      <td>113249</td>\n",
       "      <td>2011</td>\n",
       "    </tr>\n",
       "    <tr>\n",
       "      <th>3</th>\n",
       "      <td>Vlorë, Albania</td>\n",
       "      <td>79513</td>\n",
       "      <td>2011</td>\n",
       "    </tr>\n",
       "    <tr>\n",
       "      <th>4</th>\n",
       "      <td>Elbasan, Albania</td>\n",
       "      <td>78703</td>\n",
       "      <td>2011</td>\n",
       "    </tr>\n",
       "  </tbody>\n",
       "</table>\n",
       "</div>"
      ],
      "text/plain": [
       "             Cities  Population  Year\n",
       "0   Tirana, Albania      418495  2011\n",
       "1  Shkodër, Albania       77075  2011\n",
       "2   Durrës, Albania      113249  2011\n",
       "3    Vlorë, Albania       79513  2011\n",
       "4  Elbasan, Albania       78703  2011"
      ]
     },
     "execution_count": 8,
     "metadata": {},
     "output_type": "execute_result"
    }
   ],
   "source": [
    "data = []\n",
    "\n",
    "for country in document.iterfind('country'):\n",
    "    co = country.find('name').text\n",
    "    for city in country.iter('city'):\n",
    "        # including country name for instances where the city name is the same \n",
    "        # but located in a different countries\n",
    "        ci = city.find('name').text + ', ' + co \n",
    "        for population in city.iter('population'):\n",
    "            pop = int(population.text)\n",
    "            yr = population.attrib['year']\n",
    "        \n",
    "        # there are have mulitple years of population numbers for most cities\n",
    "        # appending the data as part of the city for loop ensures that only \n",
    "        # the latest available figures are used\n",
    "        data.append({'Cities': ci, 'Population': pop, 'Year': yr})   \n",
    "\n",
    "df = pd.DataFrame(data)\n",
    "df.head()"
   ]
  },
  {
   "cell_type": "code",
   "execution_count": 9,
   "metadata": {
    "collapsed": false
   },
   "outputs": [
    {
     "data": {
      "text/html": [
       "<div>\n",
       "<table border=\"1\" class=\"dataframe\">\n",
       "  <thead>\n",
       "    <tr style=\"text-align: right;\">\n",
       "      <th></th>\n",
       "      <th>Cities</th>\n",
       "      <th>Population</th>\n",
       "    </tr>\n",
       "  </thead>\n",
       "  <tbody>\n",
       "    <tr>\n",
       "      <th>0</th>\n",
       "      <td>Shanghai, China</td>\n",
       "      <td>22315474</td>\n",
       "    </tr>\n",
       "    <tr>\n",
       "      <th>1</th>\n",
       "      <td>Istanbul, Turkey</td>\n",
       "      <td>13710512</td>\n",
       "    </tr>\n",
       "    <tr>\n",
       "      <th>2</th>\n",
       "      <td>Mumbai, India</td>\n",
       "      <td>12442373</td>\n",
       "    </tr>\n",
       "    <tr>\n",
       "      <th>3</th>\n",
       "      <td>Moskva, Russia</td>\n",
       "      <td>11979529</td>\n",
       "    </tr>\n",
       "    <tr>\n",
       "      <th>4</th>\n",
       "      <td>Beijing, China</td>\n",
       "      <td>11716620</td>\n",
       "    </tr>\n",
       "    <tr>\n",
       "      <th>5</th>\n",
       "      <td>São Paulo, Brazil</td>\n",
       "      <td>11152344</td>\n",
       "    </tr>\n",
       "    <tr>\n",
       "      <th>6</th>\n",
       "      <td>Tianjin, China</td>\n",
       "      <td>11090314</td>\n",
       "    </tr>\n",
       "    <tr>\n",
       "      <th>7</th>\n",
       "      <td>Guangzhou, China</td>\n",
       "      <td>11071424</td>\n",
       "    </tr>\n",
       "    <tr>\n",
       "      <th>8</th>\n",
       "      <td>Delhi, India</td>\n",
       "      <td>11034555</td>\n",
       "    </tr>\n",
       "    <tr>\n",
       "      <th>9</th>\n",
       "      <td>Shenzhen, China</td>\n",
       "      <td>10358381</td>\n",
       "    </tr>\n",
       "  </tbody>\n",
       "</table>\n",
       "</div>"
      ],
      "text/plain": [
       "              Cities  Population\n",
       "0    Shanghai, China    22315474\n",
       "1   Istanbul, Turkey    13710512\n",
       "2      Mumbai, India    12442373\n",
       "3     Moskva, Russia    11979529\n",
       "4     Beijing, China    11716620\n",
       "5  São Paulo, Brazil    11152344\n",
       "6     Tianjin, China    11090314\n",
       "7   Guangzhou, China    11071424\n",
       "8       Delhi, India    11034555\n",
       "9    Shenzhen, China    10358381"
      ]
     },
     "execution_count": 9,
     "metadata": {},
     "output_type": "execute_result"
    }
   ],
   "source": [
    "#Sort the values then reset the Index and finally view top 10 records\n",
    "City_Population_df = df.loc[:,['Cities','Population']] \n",
    "City_Population_df.sort_values('Population', ascending=False).head(10).reset_index(drop=True)\n"
   ]
  },
  {
   "cell_type": "markdown",
   "metadata": {},
   "source": [
    "###### Question 3 : 10 ethnic groups with the largest overall populations (sum of best/latest estimates over all countries)\n"
   ]
  },
  {
   "cell_type": "code",
   "execution_count": 10,
   "metadata": {
    "collapsed": false
   },
   "outputs": [
    {
     "data": {
      "text/html": [
       "<div>\n",
       "<table border=\"1\" class=\"dataframe\">\n",
       "  <thead>\n",
       "    <tr style=\"text-align: right;\">\n",
       "      <th></th>\n",
       "      <th>Countries</th>\n",
       "      <th>Country_percentage</th>\n",
       "      <th>Country_pop</th>\n",
       "      <th>Ethnicity</th>\n",
       "      <th>Population</th>\n",
       "      <th>Year</th>\n",
       "    </tr>\n",
       "  </thead>\n",
       "  <tbody>\n",
       "    <tr>\n",
       "      <th>0</th>\n",
       "      <td>Albania</td>\n",
       "      <td>95.0</td>\n",
       "      <td>2800138</td>\n",
       "      <td>Albanian</td>\n",
       "      <td>2660131</td>\n",
       "      <td>2011</td>\n",
       "    </tr>\n",
       "    <tr>\n",
       "      <th>1</th>\n",
       "      <td>Albania</td>\n",
       "      <td>3.0</td>\n",
       "      <td>2800138</td>\n",
       "      <td>Greek</td>\n",
       "      <td>84004</td>\n",
       "      <td>2011</td>\n",
       "    </tr>\n",
       "    <tr>\n",
       "      <th>2</th>\n",
       "      <td>Greece</td>\n",
       "      <td>93.0</td>\n",
       "      <td>10816286</td>\n",
       "      <td>Greek</td>\n",
       "      <td>10059145</td>\n",
       "      <td>2011</td>\n",
       "    </tr>\n",
       "    <tr>\n",
       "      <th>3</th>\n",
       "      <td>Macedonia</td>\n",
       "      <td>64.2</td>\n",
       "      <td>2059794</td>\n",
       "      <td>Macedonian</td>\n",
       "      <td>1322387</td>\n",
       "      <td>2011</td>\n",
       "    </tr>\n",
       "    <tr>\n",
       "      <th>4</th>\n",
       "      <td>Macedonia</td>\n",
       "      <td>25.2</td>\n",
       "      <td>2059794</td>\n",
       "      <td>Albanian</td>\n",
       "      <td>519068</td>\n",
       "      <td>2011</td>\n",
       "    </tr>\n",
       "  </tbody>\n",
       "</table>\n",
       "</div>"
      ],
      "text/plain": [
       "   Countries  Country_percentage  Country_pop   Ethnicity  Population  Year\n",
       "0    Albania                95.0      2800138    Albanian     2660131  2011\n",
       "1    Albania                 3.0      2800138       Greek       84004  2011\n",
       "2     Greece                93.0     10816286       Greek    10059145  2011\n",
       "3  Macedonia                64.2      2059794  Macedonian     1322387  2011\n",
       "4  Macedonia                25.2      2059794    Albanian      519068  2011"
      ]
     },
     "execution_count": 10,
     "metadata": {},
     "output_type": "execute_result"
    }
   ],
   "source": [
    "# generate countries and their populations\n",
    "data = [] \n",
    "\n",
    "for country in document.findall('country'):\n",
    "    for node in list(country):\n",
    "        if node.tag == 'name':\n",
    "            co = node.text\n",
    "        elif node.tag == 'population':\n",
    "            # the last listed population statistic is used\n",
    "            pop = int(node.text)\n",
    "            #meas = node.attrib['measured'] --leads to an error, potentially unpopulated at times\n",
    "            yr = int(node.attrib['year'])\n",
    "        elif node.tag == 'ethnicgroup':\n",
    "            eth = node.text\n",
    "            perc = float(node.attrib['percentage'])\n",
    "            epop = int(pop * perc / 100.)\n",
    "            \n",
    "            data.append({'Countries':co, 'Country_pop':pop, 'Year':yr,\n",
    "                        'Ethnicity':eth, 'Country_percentage':perc, 'Population':epop})\n",
    "    \n",
    "df = pd.DataFrame(data)\n",
    "df.head()"
   ]
  },
  {
   "cell_type": "code",
   "execution_count": 11,
   "metadata": {
    "collapsed": false
   },
   "outputs": [
    {
     "data": {
      "text/plain": [
       "Ethnicity\n",
       "Han Chinese    1245058800\n",
       "Indo-Aryan      871815583\n",
       "European        494872201\n",
       "African         318325104\n",
       "Dravidian       302713744\n",
       "Mestizo         157734349\n",
       "Bengali         146776916\n",
       "Russian         131856989\n",
       "Japanese        126534212\n",
       "Malay           121993548\n",
       "Name: Population, dtype: int64"
      ]
     },
     "execution_count": 11,
     "metadata": {},
     "output_type": "execute_result"
    }
   ],
   "source": [
    "# groupby ethinicity with largest population sort values,reset index and finally display top 10 groups\n",
    "df.groupby('Ethnicity').Population.sum().sort_values(ascending=False).head(10)\n"
   ]
  },
  {
   "cell_type": "markdown",
   "metadata": {},
   "source": [
    "###### Question 4 : name and country of a) longest river, b) largest lake and c) airport at highest elevation\n",
    "\n",
    "** longest river name,country and length**\n",
    "\n",
    "Check river feature next explore all elements in it.Extract the necessary elements and append it into a DataFrame.Finally sort the values,reset the index and view longest river data."
   ]
  },
  {
   "cell_type": "code",
   "execution_count": 12,
   "metadata": {
    "collapsed": false
   },
   "outputs": [
    {
     "data": {
      "text/plain": [
       "'mondial'"
      ]
     },
     "execution_count": 12,
     "metadata": {},
     "output_type": "execute_result"
    }
   ],
   "source": [
    "document.getroot().tag"
   ]
  },
  {
   "cell_type": "code",
   "execution_count": 13,
   "metadata": {
    "collapsed": false
   },
   "outputs": [
    {
     "data": {
      "text/plain": [
       "dict_keys(['country', 'continent', 'organization', 'sea', 'river', 'lake', 'island', 'mountain', 'desert', 'airport'])"
      ]
     },
     "execution_count": 13,
     "metadata": {},
     "output_type": "execute_result"
    }
   ],
   "source": [
    "# generate a unique list of nodes to understand what is available and where \n",
    "node_list = []\n",
    "for node in list(root):\n",
    "    node_list.append(node.tag)\n",
    "{node:1 for node in node_list}.keys()\n"
   ]
  },
  {
   "cell_type": "code",
   "execution_count": 14,
   "metadata": {
    "collapsed": false
   },
   "outputs": [],
   "source": [
    "#pull out country data for mapping country name to code\n",
    "data = []\n",
    "for element in document.iterfind('country'):\n",
    "    if element.find('name') is not None:        \n",
    "        country = element.find('name').text\n",
    "        code = element.get('car_code')\n",
    "        data.append((code,country))\n",
    "country_mapping = dict(data)"
   ]
  },
  {
   "cell_type": "code",
   "execution_count": 15,
   "metadata": {
    "collapsed": false
   },
   "outputs": [
    {
     "name": "stdout",
     "output_type": "stream",
     "text": [
      "b'<river country=\"IS\" id=\"river-Thjorsa\">\\n      <name>Thjorsa</name>\\n      <to water=\"sea-Atlantic\" watertype=\"sea\" />\\n      <area>7530</area>\\n      <length>230</length>\\n      <source country=\"IS\">\\n         <latitude>65</latitude>\\n         <longitude>-18</longitude>\\n      </source>\\n      <estuary country=\"IS\">\\n         <latitude>63.9</latitude>\\n         <longitude>-20.8</longitude>\\n      </estuary>\\n   </river>\\n   '\n"
     ]
    },
    {
     "data": {
      "text/plain": [
       "dict_keys(['name', 'to', 'area', 'length', 'source', 'estuary', 'located', 'through'])"
      ]
     },
     "execution_count": 15,
     "metadata": {},
     "output_type": "execute_result"
    }
   ],
   "source": [
    "#Check the river feature\n",
    "elem = document.find('river')\n",
    "print(ET.tostring(elem))\n",
    "\n",
    "#Explore river feature elements \n",
    "node_list = []\n",
    "for element in document.findall('river'):\n",
    "    for node in list(element):\n",
    "        node_list.append(node.tag)\n",
    "{node:1 for node in node_list}.keys()"
   ]
  },
  {
   "cell_type": "code",
   "execution_count": 16,
   "metadata": {
    "collapsed": false
   },
   "outputs": [
    {
     "name": "stdout",
     "output_type": "stream",
     "text": [
      "River      object\n",
      "Country    object\n",
      "Length     object\n",
      "dtype: object\n"
     ]
    },
    {
     "data": {
      "text/html": [
       "<div>\n",
       "<table border=\"1\" class=\"dataframe\">\n",
       "  <thead>\n",
       "    <tr style=\"text-align: right;\">\n",
       "      <th></th>\n",
       "      <th>River</th>\n",
       "      <th>Country</th>\n",
       "      <th>Length</th>\n",
       "    </tr>\n",
       "  </thead>\n",
       "  <tbody>\n",
       "    <tr>\n",
       "      <th>0</th>\n",
       "      <td>Amazonas</td>\n",
       "      <td>Peru</td>\n",
       "      <td>6448.0</td>\n",
       "    </tr>\n",
       "  </tbody>\n",
       "</table>\n",
       "</div>"
      ],
      "text/plain": [
       "      River Country  Length\n",
       "0  Amazonas    Peru  6448.0"
      ]
     },
     "execution_count": 16,
     "metadata": {},
     "output_type": "execute_result"
    }
   ],
   "source": [
    "# from the river feature extract the necessery elements like river,country and length\n",
    "data = []\n",
    "\n",
    "for element in document.iterfind('river'):\n",
    "    if element.find('name') is not None:        \n",
    "        river = element.find('name').text\n",
    "        if element.find('length') is not None:\n",
    "            length = element.find('length').text\n",
    "            codes = element.get('country')\n",
    "            # country attribute may list all relevant country codes separated by space\n",
    "            for code in codes.split(' '):\n",
    "                # create list of tuples of river, country, and length\n",
    "                data.append((river,country_mapping[code],length))\n",
    "\n",
    "df = pd.DataFrame(data,columns=['River','Country','Length'])\n",
    "print(df.dtypes)\n",
    "\n",
    "#Explicit conversion of feature length from object to numeric\n",
    "df.Length = pd.to_numeric(df.Length, errors='coerce')\n",
    "\n",
    "# View Longest river name,country and length \n",
    "df.sort_values('Length',ascending=False).reset_index(drop=True).head(1)"
   ]
  },
  {
   "cell_type": "markdown",
   "metadata": {},
   "source": [
    "**largest lake name,country and area **\n",
    "\n",
    "Check lake feature next explore all elements in it.Extract the necessary elements and append it into a DataFrame.Finally sort the values,reset the index and view larget lake data."
   ]
  },
  {
   "cell_type": "code",
   "execution_count": 17,
   "metadata": {
    "collapsed": false
   },
   "outputs": [
    {
     "name": "stdout",
     "output_type": "stream",
     "text": [
      "b'<lake country=\"SF\" id=\"lake-Inarisee\">\\n      <name>Inari</name>\\n      <located country=\"SF\" province=\"lteil-LAP-SF\" />\\n      <to water=\"river-Paatsjoki\" watertype=\"river\" />\\n      <area>1040</area>\\n      <latitude>68.95</latitude>\\n      <longitude>27.7</longitude>\\n      <elevation>119</elevation>\\n      <depth>92</depth>\\n   </lake>\\n   '\n"
     ]
    },
    {
     "data": {
      "text/plain": [
       "dict_keys(['name', 'located', 'to', 'area', 'latitude', 'longitude', 'elevation', 'depth'])"
      ]
     },
     "execution_count": 17,
     "metadata": {},
     "output_type": "execute_result"
    }
   ],
   "source": [
    "# Check the lake feature\n",
    "elem = document.find('lake')\n",
    "print(ET.tostring(elem))\n",
    "\n",
    "# Explore lake feature elements \n",
    "node_list = []\n",
    "for element in document.findall('lake'):\n",
    "    for node in list(element):\n",
    "        node_list.append(node.tag)\n",
    "{node:1 for node in node_list}.keys()"
   ]
  },
  {
   "cell_type": "code",
   "execution_count": 18,
   "metadata": {
    "collapsed": false
   },
   "outputs": [
    {
     "name": "stdout",
     "output_type": "stream",
     "text": [
      "Lake       object\n",
      "Country    object\n",
      "Area       object\n",
      "dtype: object\n"
     ]
    },
    {
     "data": {
      "text/html": [
       "<div>\n",
       "<table border=\"1\" class=\"dataframe\">\n",
       "  <thead>\n",
       "    <tr style=\"text-align: right;\">\n",
       "      <th></th>\n",
       "      <th>Lake</th>\n",
       "      <th>Country</th>\n",
       "      <th>Area</th>\n",
       "    </tr>\n",
       "  </thead>\n",
       "  <tbody>\n",
       "    <tr>\n",
       "      <th>0</th>\n",
       "      <td>Caspian Sea</td>\n",
       "      <td>Russia</td>\n",
       "      <td>386400.0</td>\n",
       "    </tr>\n",
       "  </tbody>\n",
       "</table>\n",
       "</div>"
      ],
      "text/plain": [
       "          Lake Country      Area\n",
       "0  Caspian Sea  Russia  386400.0"
      ]
     },
     "execution_count": 18,
     "metadata": {},
     "output_type": "execute_result"
    }
   ],
   "source": [
    "# from the lake feature extract the necessary elements like lake,country and area\n",
    "\n",
    "data = []\n",
    "\n",
    "for element in document.iterfind('lake'):\n",
    "    if element.find('name') is not None:        \n",
    "        obj = element.find('name').text\n",
    "        if element.find('area') is not None:\n",
    "            meas = element.find('area').text\n",
    "            codes = element.get('country')\n",
    "            # country attribute may list all relevant country codes separated by space\n",
    "            for code in codes.split(' '):\n",
    "                # create list of tuples of lake, country, and area\n",
    "                data.append((obj,country_mapping[code],meas))\n",
    "\n",
    "df = pd.DataFrame(data,columns=['Lake','Country','Area'])\n",
    "print(df.dtypes)\n",
    "\n",
    "#Explicit conversion of feature area from object to numeric\n",
    "df.Area = pd.to_numeric(df.Area, errors='coerce')\n",
    "\n",
    "#View Largest lake name,country and area\n",
    "df.sort_values('Area',ascending=False).reset_index(drop=True).head(1)\n"
   ]
  },
  {
   "cell_type": "markdown",
   "metadata": {},
   "source": [
    "**name,country of the airport at highest elevation **\n",
    "\n",
    "Check airport feature next explore all elements in it.Extract the necessary elements and append it into a DataFrame.Finally sort the values,reset the index and view highest elevation airport data."
   ]
  },
  {
   "cell_type": "code",
   "execution_count": 19,
   "metadata": {
    "collapsed": false
   },
   "outputs": [
    {
     "name": "stdout",
     "output_type": "stream",
     "text": [
      "b'<airport city=\"cty-Afghanistan-2\" country=\"AFG\" iatacode=\"HEA\">\\n      <name>Herat</name>\\n      <latitude>34.210017</latitude>\\n      <longitude>62.2283</longitude>\\n      <elevation>977</elevation>\\n      <gmtOffset>5</gmtOffset>\\n   </airport>\\n   '\n"
     ]
    },
    {
     "data": {
      "text/plain": [
       "dict_keys(['name', 'latitude', 'longitude', 'elevation', 'gmtOffset', 'located_on'])"
      ]
     },
     "execution_count": 19,
     "metadata": {},
     "output_type": "execute_result"
    }
   ],
   "source": [
    "#Check the airport feature\n",
    "elem = document.find('airport')\n",
    "print(ET.tostring(elem))\n",
    "\n",
    "# Explore the airport feature key elements\n",
    "node_list = []\n",
    "for element in document.findall('airport'):\n",
    "    for node in list(element):\n",
    "        node_list.append(node.tag)\n",
    "{node:1 for node in node_list}.keys()"
   ]
  },
  {
   "cell_type": "code",
   "execution_count": 20,
   "metadata": {
    "collapsed": false
   },
   "outputs": [
    {
     "data": {
      "text/html": [
       "<div>\n",
       "<table border=\"1\" class=\"dataframe\">\n",
       "  <thead>\n",
       "    <tr style=\"text-align: right;\">\n",
       "      <th></th>\n",
       "      <th>Airport</th>\n",
       "      <th>Country_code</th>\n",
       "      <th>Elevation</th>\n",
       "    </tr>\n",
       "  </thead>\n",
       "  <tbody>\n",
       "    <tr>\n",
       "      <th>0</th>\n",
       "      <td>El Alto Intl</td>\n",
       "      <td>BOL</td>\n",
       "      <td>4063</td>\n",
       "    </tr>\n",
       "  </tbody>\n",
       "</table>\n",
       "</div>"
      ],
      "text/plain": [
       "        Airport Country_code  Elevation\n",
       "0  El Alto Intl          BOL       4063"
      ]
     },
     "execution_count": 20,
     "metadata": {},
     "output_type": "execute_result"
    }
   ],
   "source": [
    "# from the airport feature extract the necessary elements like country,airport and elevation\n",
    "data = [] \n",
    "\n",
    "for element in document.findall('airport'):\n",
    "    # first listed country used since the river can run though multiple countries\n",
    "    code = element.attrib['country'].split(' ')[0]\n",
    "    for node in list(element):\n",
    "        if node.tag == 'name':\n",
    "            airport = node.text\n",
    "        elif node.tag == 'elevation':\n",
    "            if node.text is not None:\n",
    "                elevation = int(node.text)\n",
    "            # Generate list of airports and their elevation\n",
    "            data.append({'Country_code': code, 'Airport':airport, 'Elevation':elevation})\n",
    "    \n",
    "airports = pd.DataFrame(data)\n",
    "\n",
    "airports.sort_values('Elevation', ascending=False).reset_index(drop=True).head(1)"
   ]
  },
  {
   "cell_type": "code",
   "execution_count": null,
   "metadata": {
    "collapsed": true
   },
   "outputs": [],
   "source": [
    "\n"
   ]
  }
 ],
 "metadata": {
  "kernelspec": {
   "display_name": "Python 3",
   "language": "python",
   "name": "python3"
  },
  "language_info": {
   "codemirror_mode": {
    "name": "ipython",
    "version": 3
   },
   "file_extension": ".py",
   "mimetype": "text/x-python",
   "name": "python",
   "nbconvert_exporter": "python",
   "pygments_lexer": "ipython3",
   "version": "3.6.0"
  }
 },
 "nbformat": 4,
 "nbformat_minor": 0
}
