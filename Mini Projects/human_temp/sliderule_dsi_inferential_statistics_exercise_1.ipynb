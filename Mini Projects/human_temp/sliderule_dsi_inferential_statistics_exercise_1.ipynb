{
 "cells": [
  {
   "cell_type": "markdown",
   "metadata": {},
   "source": [
    "# What is the True Normal Human Body Temperature? \n",
    "\n",
    "#### Background\n",
    "\n",
    "The mean normal body temperature was held to be 37$^{\\circ}$C or 98.6$^{\\circ}$F for more than 120 years since it was first conceptualized and reported by Carl Wunderlich in a famous 1868 book. But, is this value statistically correct?"
   ]
  },
  {
   "cell_type": "markdown",
   "metadata": {},
   "source": [
    "<div class=\"span5 alert alert-info\">\n",
    "<h3>Exercises</h3>\n",
    "\n",
    "<p>In this exercise, you will analyze a dataset of human body temperatures and employ the concepts of hypothesis testing, confidence intervals, and statistical significance.</p>\n",
    "\n",
    "<p>Answer the following questions <b>in this notebook below and submit to your Github account</b>.</p> \n",
    "\n",
    "<ol>\n",
    "<li>  Is the distribution of body temperatures normal? \n",
    "    <ul>\n",
    "    <li> Although this is not a requirement for CLT to hold (read CLT carefully), it gives us some peace of mind that the population may also be normally distributed if we assume that this sample is representative of the population.\n",
    "    </ul>\n",
    "<li>  Is the sample size large? Are the observations independent?\n",
    "    <ul>\n",
    "    <li> Remember that this is a condition for the CLT, and hence the statistical tests we are using, to apply.\n",
    "    </ul>\n",
    "<li>  Is the true population mean really 98.6 degrees F?\n",
    "    <ul>\n",
    "    <li> Would you use a one-sample or two-sample test? Why?\n",
    "    <li> In this situation, is it appropriate to use the $t$ or $z$ statistic? \n",
    "    <li> Now try using the other test. How is the result be different? Why?\n",
    "    </ul>\n",
    "<li>  At what temperature should we consider someone's temperature to be \"abnormal\"?\n",
    "    <ul>\n",
    "    <li> Start by computing the margin of error and confidence interval.\n",
    "    </ul>\n",
    "<li>  Is there a significant difference between males and females in normal temperature?\n",
    "    <ul>\n",
    "    <li> What test did you use and why?\n",
    "    <li> Write a story with your conclusion in the context of the original problem.\n",
    "    </ul>\n",
    "</ol>\n",
    "\n",
    "You can include written notes in notebook cells using Markdown: \n",
    "   - In the control panel at the top, choose Cell > Cell Type > Markdown\n",
    "   - Markdown syntax: http://nestacms.com/docs/creating-content/markdown-cheat-sheet\n",
    "\n",
    "#### Resources\n",
    "\n",
    "+ Information and data sources: http://www.amstat.org/publications/jse/datasets/normtemp.txt, http://www.amstat.org/publications/jse/jse_data_archive.htm\n",
    "+ Markdown syntax: http://nestacms.com/docs/creating-content/markdown-cheat-sheet\n",
    "\n",
    "****\n",
    "</div>"
   ]
  },
  {
   "cell_type": "code",
   "execution_count": 1,
   "metadata": {
    "collapsed": false
   },
   "outputs": [
    {
     "name": "stdout",
     "output_type": "stream",
     "text": [
      "(130, 3)\n",
      "   temperature gender  heart_rate\n",
      "0         99.3      F        68.0\n",
      "1         98.4      F        81.0\n",
      "2         97.8      M        73.0\n",
      "3         99.2      F        66.0\n",
      "4         98.0      F        73.0\n",
      "98.24923076923078\n",
      "98.3\n"
     ]
    }
   ],
   "source": [
    "import pandas as pd\n",
    "import seaborn as sns\n",
    "import numpy as np\n",
    "import math\n",
    "import scipy.stats as st\n",
    "import statsmodels.api as sm\n",
    "import matplotlib.pyplot as plt\n",
    "%matplotlib inline\n",
    "\n",
    "df = pd.read_csv('data/human_body_temperature.csv')\n",
    "print(df.shape)\n",
    "print(df.head())\n"
   ]
  },
  {
   "cell_type": "markdown",
   "metadata": {},
   "source": [
    "1.** Is the distribution of body temperatures normal?**\n",
    "\n",
    "###### Normality Test \n",
    "\n",
    "Plot histogram with temperature values"
   ]
  },
  {
   "cell_type": "code",
   "execution_count": 2,
   "metadata": {
    "collapsed": false
   },
   "outputs": [
    {
     "name": "stdout",
     "output_type": "stream",
     "text": [
      "NormaltestResult(statistic=2.7038014333192031, pvalue=0.2587479863488254)\n"
     ]
    },
    {
     "name": "stderr",
     "output_type": "stream",
     "text": [
      "C:\\ProgramData\\Anaconda3\\lib\\site-packages\\statsmodels\\nonparametric\\kdetools.py:20: VisibleDeprecationWarning: using a non-integer number instead of an integer will result in an error in the future\n",
      "  y = X[:m/2+1] + np.r_[0,X[m/2+1:],0]*1j\n"
     ]
    },
    {
     "data": {
      "image/png": "[encoded data removed]",
      "text/plain": [
       "<matplotlib.figure.Figure at 0x213ba5419b0>"
      ]
     },
     "metadata": {},
     "output_type": "display_data"
    }
   ],
   "source": [
    "#Show a default plot with a kernel density estimate and histogram with bin size determined automatically \n",
    "sns.distplot(df.temperature)\n",
    "\n",
    "#Normality test\n",
    "print(st.normaltest(df.temperature))"
   ]
  },
  {
   "cell_type": "markdown",
   "metadata": {},
   "source": [
    "The distribution does looks like normal distribution with sllightly skewed towards right.Normal test return chi-squared static and assosiated p-value.If the p-val is very small, it means it is unlikely that the data came from a normal distribution.Here, the p-value returned is quite high 25%.*** We can confidently say that the distribution of body temperatures is normal.***\n"
   ]
  },
  {
   "cell_type": "code",
   "execution_count": 3,
   "metadata": {
    "collapsed": false
   },
   "outputs": [],
   "source": [
    "n, x_bar, sigma, SE = np.zeros(4)\n",
    "\n",
    "def inferential_statistics(array, print_output):\n",
    "    ''' Generate statitics on given data set that can be used for inferential statistics.\n",
    "\n",
    "    Parameters\n",
    "    ==========\n",
    "    array: ndarray\n",
    "     object to generate statistics on\n",
    "    '''\n",
    "    infer = st.describe(array)\n",
    "    \n",
    "    n = infer[0]\n",
    "    x_bar = infer[2]\n",
    "    sigma = np.sqrt(infer[3])\n",
    "    SE = sigma / np.sqrt(n)\n",
    "    \n",
    "    if print_output == 'print':\n",
    "        print( \"%14s %15s\" % ('statistic', 'value'))\n",
    "        print( 30 * \"-\")\n",
    "        print( \"%14s %15.0f\" % ('sample size', n))\n",
    "        print( \"%14s %15.5f\" % ('skew', infer[4]))\n",
    "        print(\"%14s %15.5f\" % ('kurtosis', infer[5]))\n",
    "        print( \"%14s %15.5f\" % ('mean', x_bar))\n",
    "        print( \"%14s %15.5f\" % ('median', np.median(array)))\n",
    "        print( \"%14s %15.5f\" % ('std dev', sigma))\n",
    "        print( \"%14s %15.5f\" % ('std error', SE))\n",
    "    \n",
    "    else:\n",
    "        return n, x_bar, sigma, SE\n",
    "\n"
   ]
  },
  {
   "cell_type": "markdown",
   "metadata": {},
   "source": [
    "**Would you use a one-sample or two-sample test? Why?**\n",
    "\n",
    "I would use a one-sample test because we are trying to compare a sample group mean to the accepted population mean, and determining whether the sample group mean is unlikely to be found if the true population mean is 98.6 degrees F.\n",
    "\n",
    "**In this situation, is it appropriate to use the t or  z statistic?  **\n",
    "\n",
    "I would use the t statistic since the population's standard deviation is unknown."
   ]
  },
  {
   "cell_type": "code",
   "execution_count": 6,
   "metadata": {
    "collapsed": false
   },
   "outputs": [
    {
     "name": "stdout",
     "output_type": "stream",
     "text": [
      "t-statistic = -5.455 pvalue = 0.0000002411\n"
     ]
    }
   ],
   "source": [
    "# Calculates the T-test for the mean of ONE group of scores\n",
    "print('t-statistic = %6.3f pvalue = %6.10f' %  st.ttest_1samp(df.temperature,98.6))\n"
   ]
  },
  {
   "cell_type": "markdown",
   "metadata": {},
   "source": [
    "** Is the true population mean really 98.6 degrees F?  **\n",
    "\n",
    "#### Test the Hypothesis\n",
    "\n",
    "Ho (Null Hypothesis): μ (mu) = 98.6F : The population mean body temperature is 98.6 degrees Fahrenheit\n",
    "\n",
    "Ha (Alternative Hypothesis): μ (mu) ≠ 98.6F : The population mean body temperature is not 98.6 degrees Fahrenheit\n",
    "\n",
    "**Set Hypothesis:**\n",
    "\n"
   ]
  },
  {
   "cell_type": "code",
   "execution_count": 7,
   "metadata": {
    "collapsed": false
   },
   "outputs": [
    {
     "name": "stdout",
     "output_type": "stream",
     "text": [
      "H0: mu = 98.6 HA: mu != 98.6\n"
     ]
    }
   ],
   "source": [
    "mu = 98.6\n",
    "n, x_bar, sigma, SE = inferential_statistics(df.temperature, 'return')\n",
    "\n",
    "print(\"H0: mu = \" + str(mu) + \" HA: mu != \" + str(mu))"
   ]
  },
  {
   "cell_type": "code",
   "execution_count": 8,
   "metadata": {
    "collapsed": false
   },
   "outputs": [
    {
     "name": "stdout",
     "output_type": "stream",
     "text": [
      "sample mean = 98.25\n"
     ]
    }
   ],
   "source": [
    "print(\"sample mean = %3.2f\" % x_bar)"
   ]
  },
  {
   "cell_type": "markdown",
   "metadata": {},
   "source": [
    "The sample mean is 98.25 but the true mean is 98.6.The true mean is far away from sample mean.Since we have strong evidence against Null Hypothesis we can reject the Null Hypothesis.\n",
    "\n",
    " **At what temperature should we consider someone's temperature to be \"abnormal\"? **\n",
    " \n",
    " Check CI for sample mean\n"
   ]
  },
  {
   "cell_type": "code",
   "execution_count": 9,
   "metadata": {
    "collapsed": false
   },
   "outputs": [
    {
     "name": "stdout",
     "output_type": "stream",
     "text": [
      "The 95% confidence interval is (98.12, 98.38).\n"
     ]
    }
   ],
   "source": [
    "lower, upper = st.t.interval(0.95, len(df['temperature'])-1, \n",
    "                             loc=np.mean(df['temperature']), \n",
    "                             scale=st.sem(df['temperature']))\n",
    "\n",
    "print('The 95% confidence interval is ({:.2f}, {:.2f}).'.format(lower,upper))"
   ]
  },
  {
   "cell_type": "markdown",
   "metadata": {},
   "source": [
    "Considering the impacts of making a Type I error versus a Type II error, it seems that alpha = 0.05 is an acceptable balance between the two. We don't want to create such a high threshold for a confidence interval such that we reject the null when it is true and risk getting other people sick while we also do not want to make the mistake that people are sick when they are healthy. The risk of getting others sick is slightly worse. Given the confidence interval above of (98.12, 98.38), these temperatures could be used as a threshold for an \"abnormal\" temperature, but, depending on outside circumstances, these temperatures may not indicate sickness - just abnormality.\n",
    "\n",
    "\n",
    "**Is there a significant difference between males and females in normal temperature?**\n"
   ]
  },
  {
   "cell_type": "code",
   "execution_count": 10,
   "metadata": {
    "collapsed": false
   },
   "outputs": [
    {
     "name": "stdout",
     "output_type": "stream",
     "text": [
      "M    65\n",
      "F    65\n",
      "Name: gender, dtype: int64\n",
      "There are 65 males in the sample and their mean temperature is 98.10\n",
      "There are 65 females in the sample and their mean temperature is 98.39\n"
     ]
    }
   ],
   "source": [
    "print(df.gender.value_counts())\n",
    "\n",
    "#slice males\n",
    "male_df = df[df['gender'] == 'M']\n",
    "#slice female\n",
    "female_df = df[df['gender'] == 'F']\n",
    "\n",
    "#print mean temperature of males,mean temperature of females\n",
    "print('There are {} males in the sample and their mean temperature is {:.2f}'.format(len(male_df), \n",
    "                                                                                     male_df['temperature'].mean()))\n",
    "print('There are {} females in the sample and their mean temperature is {:.2f}'.format(len(female_df), \n",
    "                                                                                       female_df['temperature'].mean()))\n"
   ]
  },
  {
   "cell_type": "markdown",
   "metadata": {
    "collapsed": true
   },
   "source": [
    "These two means seem to be different, so we should compare the male sample mean to the female sample mean.\n",
    "\n",
    "H0: $M$m = $M$f\n",
    "\n",
    "H1: $M$m ≠ $M$f\n"
   ]
  },
  {
   "cell_type": "code",
   "execution_count": 11,
   "metadata": {
    "collapsed": false
   },
   "outputs": [
    {
     "name": "stdout",
     "output_type": "stream",
     "text": [
      "The t-statistic is -2.285 and the p-value is 0.024.\n"
     ]
    }
   ],
   "source": [
    "#t test for 2 groups(male,female)\n",
    "two_sample = st.ttest_ind(male_df['temperature'], female_df['temperature'])\n",
    "print('The t-statistic is %.3f and the p-value is %.3f.' % two_sample)"
   ]
  },
  {
   "cell_type": "markdown",
   "metadata": {
    "collapsed": true
   },
   "source": [
    "A two-sample t-test is more suitable than a one-sample t-test due to two groups. Given the low p-value it is unlikely that we found this sample due to random chance and therefore unlikely that the two mean temperatures are equal. This is a statistical significant in favour of alternative,we can confidently say that the male and female means are different."
   ]
  }
 ],
 "metadata": {
  "kernelspec": {
   "display_name": "Python 3",
   "language": "python",
   "name": "python3"
  },
  "language_info": {
   "codemirror_mode": {
    "name": "ipython",
    "version": 3
   },
   "file_extension": ".py",
   "mimetype": "text/x-python",
   "name": "python",
   "nbconvert_exporter": "python",
   "pygments_lexer": "ipython3",
   "version": "3.6.0"
  }
 },
 "nbformat": 4,
 "nbformat_minor": 0
}
