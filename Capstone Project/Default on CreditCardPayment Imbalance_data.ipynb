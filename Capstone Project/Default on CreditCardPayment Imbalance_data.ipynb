{
 "cells": [
  {
   "cell_type": "markdown",
   "metadata": {},
   "source": [
    "## Default on Credit Card Payment\n",
    "\n",
    "\n",
    "The purpose of this project is to develop a predictive model that can be used to help the organizations use their data to make better decisions. This is achieved by applying classification techniques to organizations’ data source to make the predictions. A predictive analytics application allows the organization to identify the risks and address them in real time to reach better outcomes. For example, when a customer asks to apply for a new credit card or increase their monthly credit balance, it is necessary for the bank to analyze available data related to that customer before making the decision.\n",
    "\n",
    "\n",
    "### Data\n",
    "\n",
    "\n",
    "The Dataset used is **Default of Credit Card Clients**.The dataset contains information on default payments, demographic factors, credit data, history of payments, and bill statements of credit card clients in Taiwan from April 2005 to September 2005.\n",
    "\n",
    "\n",
    "\n",
    "The original dataset can be found [here](https://archive.ics.uci.edu/ml/datasets/default+of+credit+card+clients) at the UCI Machine Learning Repository."
   ]
  },
  {
   "cell_type": "code",
   "execution_count": 1,
   "metadata": {
    "collapsed": false
   },
   "outputs": [
    {
     "name": "stderr",
     "output_type": "stream",
     "text": [
      "C:\\ProgramData\\Anaconda3\\lib\\site-packages\\sklearn\\cross_validation.py:44: DeprecationWarning: This module was deprecated in version 0.18 in favor of the model_selection module into which all the refactored classes and functions are moved. Also note that the interface of the new CV iterators are different from that of this module. This module will be removed in 0.20.\n",
      "  \"This module will be removed in 0.20.\", DeprecationWarning)\n"
     ]
    }
   ],
   "source": [
    "#load necessary liabraries\n",
    "# regex\n",
    "import re\n",
    "\n",
    "#data explore\n",
    "import numpy as np\n",
    "np.random.seed(1333)\n",
    "\n",
    "#support for reading excel files\n",
    "import xlrd\n",
    "# dataframes in python\n",
    "import pandas as pd\n",
    "import seaborn as sns\n",
    "import sklearn.cross_validation\n",
    "import matplotlib.pyplot as plt\n",
    "#from twisted.python.compat import xrange\n",
    "import gc\n",
    "\n",
    "from sklearn.tree import DecisionTreeClassifier\n",
    "import sklearn.linear_model\n",
    "import sklearn.svm"
   ]
  },
  {
   "cell_type": "code",
   "execution_count": 2,
   "metadata": {
    "collapsed": false
   },
   "outputs": [
    {
     "data": {
      "text/html": [
       "<div>\n",
       "<table border=\"1\" class=\"dataframe\">\n",
       "  <thead>\n",
       "    <tr style=\"text-align: right;\">\n",
       "      <th></th>\n",
       "      <th>ID</th>\n",
       "      <th>LIMIT_BAL</th>\n",
       "      <th>SEX</th>\n",
       "      <th>EDUCATION</th>\n",
       "      <th>MARRIAGE</th>\n",
       "      <th>AGE</th>\n",
       "      <th>PAY_0</th>\n",
       "      <th>PAY_2</th>\n",
       "      <th>PAY_3</th>\n",
       "      <th>PAY_4</th>\n",
       "      <th>...</th>\n",
       "      <th>BILL_AMT4</th>\n",
       "      <th>BILL_AMT5</th>\n",
       "      <th>BILL_AMT6</th>\n",
       "      <th>PAY_AMT1</th>\n",
       "      <th>PAY_AMT2</th>\n",
       "      <th>PAY_AMT3</th>\n",
       "      <th>PAY_AMT4</th>\n",
       "      <th>PAY_AMT5</th>\n",
       "      <th>PAY_AMT6</th>\n",
       "      <th>default payment next month</th>\n",
       "    </tr>\n",
       "  </thead>\n",
       "  <tbody>\n",
       "    <tr>\n",
       "      <th>0</th>\n",
       "      <td>1</td>\n",
       "      <td>20000</td>\n",
       "      <td>2</td>\n",
       "      <td>2</td>\n",
       "      <td>1</td>\n",
       "      <td>24</td>\n",
       "      <td>2</td>\n",
       "      <td>2</td>\n",
       "      <td>-1</td>\n",
       "      <td>-1</td>\n",
       "      <td>...</td>\n",
       "      <td>0</td>\n",
       "      <td>0</td>\n",
       "      <td>0</td>\n",
       "      <td>0</td>\n",
       "      <td>689</td>\n",
       "      <td>0</td>\n",
       "      <td>0</td>\n",
       "      <td>0</td>\n",
       "      <td>0</td>\n",
       "      <td>1</td>\n",
       "    </tr>\n",
       "    <tr>\n",
       "      <th>1</th>\n",
       "      <td>2</td>\n",
       "      <td>120000</td>\n",
       "      <td>2</td>\n",
       "      <td>2</td>\n",
       "      <td>2</td>\n",
       "      <td>26</td>\n",
       "      <td>-1</td>\n",
       "      <td>2</td>\n",
       "      <td>0</td>\n",
       "      <td>0</td>\n",
       "      <td>...</td>\n",
       "      <td>3272</td>\n",
       "      <td>3455</td>\n",
       "      <td>3261</td>\n",
       "      <td>0</td>\n",
       "      <td>1000</td>\n",
       "      <td>1000</td>\n",
       "      <td>1000</td>\n",
       "      <td>0</td>\n",
       "      <td>2000</td>\n",
       "      <td>1</td>\n",
       "    </tr>\n",
       "    <tr>\n",
       "      <th>2</th>\n",
       "      <td>3</td>\n",
       "      <td>90000</td>\n",
       "      <td>2</td>\n",
       "      <td>2</td>\n",
       "      <td>2</td>\n",
       "      <td>34</td>\n",
       "      <td>0</td>\n",
       "      <td>0</td>\n",
       "      <td>0</td>\n",
       "      <td>0</td>\n",
       "      <td>...</td>\n",
       "      <td>14331</td>\n",
       "      <td>14948</td>\n",
       "      <td>15549</td>\n",
       "      <td>1518</td>\n",
       "      <td>1500</td>\n",
       "      <td>1000</td>\n",
       "      <td>1000</td>\n",
       "      <td>1000</td>\n",
       "      <td>5000</td>\n",
       "      <td>0</td>\n",
       "    </tr>\n",
       "    <tr>\n",
       "      <th>3</th>\n",
       "      <td>4</td>\n",
       "      <td>50000</td>\n",
       "      <td>2</td>\n",
       "      <td>2</td>\n",
       "      <td>1</td>\n",
       "      <td>37</td>\n",
       "      <td>0</td>\n",
       "      <td>0</td>\n",
       "      <td>0</td>\n",
       "      <td>0</td>\n",
       "      <td>...</td>\n",
       "      <td>28314</td>\n",
       "      <td>28959</td>\n",
       "      <td>29547</td>\n",
       "      <td>2000</td>\n",
       "      <td>2019</td>\n",
       "      <td>1200</td>\n",
       "      <td>1100</td>\n",
       "      <td>1069</td>\n",
       "      <td>1000</td>\n",
       "      <td>0</td>\n",
       "    </tr>\n",
       "    <tr>\n",
       "      <th>4</th>\n",
       "      <td>5</td>\n",
       "      <td>50000</td>\n",
       "      <td>1</td>\n",
       "      <td>2</td>\n",
       "      <td>1</td>\n",
       "      <td>57</td>\n",
       "      <td>-1</td>\n",
       "      <td>0</td>\n",
       "      <td>-1</td>\n",
       "      <td>0</td>\n",
       "      <td>...</td>\n",
       "      <td>20940</td>\n",
       "      <td>19146</td>\n",
       "      <td>19131</td>\n",
       "      <td>2000</td>\n",
       "      <td>36681</td>\n",
       "      <td>10000</td>\n",
       "      <td>9000</td>\n",
       "      <td>689</td>\n",
       "      <td>679</td>\n",
       "      <td>0</td>\n",
       "    </tr>\n",
       "  </tbody>\n",
       "</table>\n",
       "<p>5 rows × 25 columns</p>\n",
       "</div>"
      ],
      "text/plain": [
       "   ID  LIMIT_BAL  SEX  EDUCATION  MARRIAGE  AGE  PAY_0  PAY_2  PAY_3  PAY_4  \\\n",
       "0   1      20000    2          2         1   24      2      2     -1     -1   \n",
       "1   2     120000    2          2         2   26     -1      2      0      0   \n",
       "2   3      90000    2          2         2   34      0      0      0      0   \n",
       "3   4      50000    2          2         1   37      0      0      0      0   \n",
       "4   5      50000    1          2         1   57     -1      0     -1      0   \n",
       "\n",
       "              ...              BILL_AMT4  BILL_AMT5  BILL_AMT6  PAY_AMT1  \\\n",
       "0             ...                      0          0          0         0   \n",
       "1             ...                   3272       3455       3261         0   \n",
       "2             ...                  14331      14948      15549      1518   \n",
       "3             ...                  28314      28959      29547      2000   \n",
       "4             ...                  20940      19146      19131      2000   \n",
       "\n",
       "   PAY_AMT2  PAY_AMT3  PAY_AMT4  PAY_AMT5  PAY_AMT6  \\\n",
       "0       689         0         0         0         0   \n",
       "1      1000      1000      1000         0      2000   \n",
       "2      1500      1000      1000      1000      5000   \n",
       "3      2019      1200      1100      1069      1000   \n",
       "4     36681     10000      9000       689       679   \n",
       "\n",
       "   default payment next month  \n",
       "0                           1  \n",
       "1                           1  \n",
       "2                           0  \n",
       "3                           0  \n",
       "4                           0  \n",
       "\n",
       "[5 rows x 25 columns]"
      ]
     },
     "execution_count": 2,
     "metadata": {},
     "output_type": "execute_result"
    }
   ],
   "source": [
    "df = pd.read_excel('./data/default of credit card clients.xls', sheetname='Data',skiprows=1)\n",
    "df.head()\n"
   ]
  },
  {
   "cell_type": "markdown",
   "metadata": {
    "collapsed": false
   },
   "source": [
    "My goal is to predict the ** target Y ** ( default or not ) with the ** features X **. In this classification problem Y is a binary variable denoting **'not default as 0' ** and **'default as 1'**.\n",
    "\n",
    "Here, I am going to  apply the random forest classifier to the data and use cross-validation to explore how the score of the classifier changes when varying the number of trees in the forest.\n",
    "\n",
    "Lets look into default and not default acounts in our dataset."
   ]
  },
  {
   "cell_type": "code",
   "execution_count": 3,
   "metadata": {
    "collapsed": false
   },
   "outputs": [
    {
     "name": "stdout",
     "output_type": "stream",
     "text": [
      " Payments : Default= 1 \n",
      "default payment next month\n",
      "0    23364\n",
      "1     6636\n",
      "dtype: int64\n",
      "defaulting accounts are 22.12% out of 30000 observations\n"
     ]
    },
    {
     "data": {
      "text/plain": [
       "<matplotlib.figure.Figure at 0x232b3cbde48>"
      ]
     },
     "metadata": {},
     "output_type": "display_data"
    }
   ],
   "source": [
    "df = df.drop('ID', axis=1)\n",
    "fig = plt.figure()\n",
    "fig.set_size_inches(4,4)\n",
    "#groupby target column to get default and not default count\n",
    "d = df.groupby(['default payment next month']).size()\n",
    "print(\" Payments : Default= 1 \")\n",
    "print(d)\n",
    "print(\"defaulting accounts are {}% out of {} observations\".format(100* d[1]/(d[1]+d[0]), d[1]+d[0]))\n",
    "\n",
    "plt.show()"
   ]
  },
  {
   "cell_type": "markdown",
   "metadata": {},
   "source": [
    "The defaulting accounts are 22.2% out of 30000 samples which means **Unbalanced majority and minority classes**.\n",
    "\n",
    "I will use the **default payment next month **column as my **target **variable. I am going to save the default payment next month column as a separate numpy array (labeled Y) and remove(drop) the default payment next month column from the dataframe.Save the feature information into matrix as **X**."
   ]
  },
  {
   "cell_type": "code",
   "execution_count": 4,
   "metadata": {
    "collapsed": false
   },
   "outputs": [
    {
     "name": "stdout",
     "output_type": "stream",
     "text": [
      "(30000, 23)\n",
      "(30000,)\n"
     ]
    }
   ],
   "source": [
    "y = df['default payment next month'].values\n",
    "#print(y)\n",
    "df = df.drop('default payment next month',axis=1)\n",
    "X = df.as_matrix()\n",
    "print(X.shape)\n",
    "print(y.shape)\n"
   ]
  },
  {
   "cell_type": "markdown",
   "metadata": {},
   "source": [
    "### RandomForestClassifier\n",
    "\n",
    "For RandomForestClassifier we need to specify n_estimators.n_estimators is the parameter specifying the number of trees in RandomForestClassifier. Then I create a list of all the classifier scores for the 40 trees ."
   ]
  },
  {
   "cell_type": "code",
   "execution_count": 5,
   "metadata": {
    "collapsed": false
   },
   "outputs": [],
   "source": [
    "from sklearn.ensemble import RandomForestClassifier\n",
    "from sklearn.cross_validation import cross_val_score\n",
    "from sklearn.decomposition import PCA\n",
    "\n",
    "scores = []\n",
    "\n",
    "for val in range(1,41):\n",
    "    clf = RandomForestClassifier(n_estimators = val)\n",
    "    validated = cross_val_score(clf ,X ,y ,cv = 10)\n",
    "    scores.append(validated)    "
   ]
  },
  {
   "cell_type": "markdown",
   "metadata": {
    "collapsed": false
   },
   "source": [
    "I create a list of all the classifier scores for 40 trees.Calculate majority class percentage and draw line horizontally in the graph.\n",
    "\n",
    "### Evaluating The Unbalanced Classes\n"
   ]
  },
  {
   "cell_type": "code",
   "execution_count": 6,
   "metadata": {
    "collapsed": false
   },
   "outputs": [
    {
     "name": "stdout",
     "output_type": "stream",
     "text": [
      "77.88000000000001\n"
     ]
    },
    {
     "name": "stderr",
     "output_type": "stream",
     "text": [
      "C:\\ProgramData\\Anaconda3\\lib\\site-packages\\seaborn\\categorical.py:2171: UserWarning: The boxplot API has been changed. Attempting to adjust your arguments for the new API (which might not work). Please update your code. See the version 0.6 release notes for more info.\n",
      "  warnings.warn(msg, UserWarning)\n"
     ]
    },
    {
     "data": {
      "image/png": "[encoded data removed]",
      "text/plain": [
       "<matplotlib.figure.Figure at 0x232afcac0f0>"
      ]
     },
     "metadata": {},
     "output_type": "display_data"
    }
   ],
   "source": [
    "df_score = pd.DataFrame(scores, columns=['1', '2', '3','4','5','6','7','8','9','10'])\n",
    "# Transpose\n",
    "df_score_T = df_score.T\n",
    "\n",
    "#row max\n",
    "df_score_rowmax = df_score_T.max(axis=0)\n",
    "\n",
    "len_y = len(y)\n",
    "temp = [i for i in y if i == 0]\n",
    "temp_1 = temp.count(0)\n",
    "\n",
    "percentage = float(temp_1)/float(len_y)\n",
    "\n",
    "print(float(temp_1)/float(len_y) *100)\n",
    "\n",
    "sns.boxplot(df_score_T)\n",
    "plt.axhline(y = percentage, ls = '--')\n",
    "#sns.boxplot(df_score_T)\n",
    "plt.xlabel('No of Trees')\n",
    "plt.ylabel('Classification scores')\n",
    "plt.title('classification score for number of trees')\n",
    "plt.show()\n",
    "\n"
   ]
  },
  {
   "cell_type": "markdown",
   "metadata": {},
   "source": [
    "We can notice that accuracy seems to improve with additional trees. We should also consider the computational cost of fitting additional trees compared to the small accuracy benefit.Even though the trees are increasing we don't see much improvement in accuracy.We are taking n_estimator as 25.\n",
    "\n",
    "Due to imbalance in our dataset we have to use different metrics that are less sensitive to imbalance when evaluating the predictive performance of classifiers.The goal is to identify the members of the positive class /the rare class/minority successfully. For which we have to use high precision and high recall.Because precision and recall both provide valuable information about the quality of a classifier, you often want to combine them into a single general-purpose score ** F1 score**.\n",
    "\n",
    "The F1 score thus tends to favor classifiers that are strong in both precision and recall, rather than classifiers that emphasize one at the cost of the other."
   ]
  },
  {
   "cell_type": "code",
   "execution_count": 7,
   "metadata": {
    "collapsed": false
   },
   "outputs": [
    {
     "name": "stdout",
     "output_type": "stream",
     "text": [
      "Garbage collector: collected 42935 objects.\n"
     ]
    }
   ],
   "source": [
    "collected = gc.collect()\n",
    "print(\"Garbage collector: collected %d objects.\" % (collected))\n",
    "\n",
    "scores = []\n",
    "\n",
    "for val in range(1,41):\n",
    "    clf = RandomForestClassifier(n_estimators = val)\n",
    "    validated = cross_val_score(clf ,X ,y ,cv = 10,scoring = 'f1')\n",
    "    scores.append(validated)    "
   ]
  },
  {
   "cell_type": "code",
   "execution_count": 8,
   "metadata": {
    "collapsed": false
   },
   "outputs": [
    {
     "name": "stderr",
     "output_type": "stream",
     "text": [
      "C:\\ProgramData\\Anaconda3\\lib\\site-packages\\seaborn\\categorical.py:2171: UserWarning: The boxplot API has been changed. Attempting to adjust your arguments for the new API (which might not work). Please update your code. See the version 0.6 release notes for more info.\n",
      "  warnings.warn(msg, UserWarning)\n"
     ]
    },
    {
     "data": {
      "image/png": "[encoded data removed]",
      "text/plain": [
       "<matplotlib.figure.Figure at 0x232b6cb55c0>"
      ]
     },
     "metadata": {},
     "output_type": "display_data"
    }
   ],
   "source": [
    "df_score = pd.DataFrame(scores, columns=['1', '2', '3','4','5','6','7','8','9','10'])\n",
    "# Transpose\n",
    "df_score_T = df_score.T\n",
    "\n",
    "sns.boxplot(df_score_T)\n",
    "plt.xlabel('No of Trees')\n",
    "plt.ylabel('F1 scores')\n",
    "plt.title('F1 Scores for number of Trees')\n",
    "plt.show()\n"
   ]
  },
  {
   "cell_type": "markdown",
   "metadata": {},
   "source": [
    "You can see that the scores are clustered around the 45% mark. There is only very little gain now by increasing the number of trees.\n",
    "\n",
    "### Setting the cutoff value for prediction\n",
    "\n",
    "Many classifiers( including random forests) can return prediction probabilities, for example: given a point X there is 70% probability that it belongs to class 1 and 30% probability that it belongs to class 0. However, when the classes in the training data are unbalanced, these predictions calculated by the classifier can be inaccurate because many classifiers do not know how to adjust for this imbalance. This problem is solved using **calibration**.\n",
    "\n",
    "\n",
    "If a classifier’s prediction probabilities are accurate, the appropriate way to convert its probabilities into predictions is to simply choose the class with probability > 0.5. This is the default behavior of classifiers when you call their predict method. When the probabilities are inaccurate, this does not work well, but you can still get good predictions by choosing a more appropriate cutoff.\n",
    "\n",
    "\n",
    "Fit a random forest classifier using 25 trees and predict the probabilities.Put a constraint that class1 of predicted probabilities > 0.5, label with 1 and 0. \n",
    "\n",
    "Using 10-fold cross validation, we are going to find a cutoff in np.arange(0.1,0.9,0.1) that gives the best average F1 score when converting prediction probabilities from a 25-tree random forest classifier into predictions.\n"
   ]
  },
  {
   "cell_type": "code",
   "execution_count": 9,
   "metadata": {
    "collapsed": false
   },
   "outputs": [],
   "source": [
    "'''\n",
    "clf = RandomForestClassifier(n_estimators = 25)\n",
    "clf.fit(X,y)\n",
    "(clf.predict_prob(X)[:,1]>0.5).astype(int)\n",
    "'''\n",
    "\n",
    "def cutoff_predict(clf,X,cutoff):\n",
    "    return (clf.predict_proba(X)[:,1] > 0.5).astype(int)\n",
    "scores1 = []\n",
    "\n",
    "def custom_f1(cutoff):\n",
    "    def f1_cutoff(clf,X,y):\n",
    "        ypred = cutoff_predict(clf, X, cutoff)\n",
    "      \n",
    "        return sklearn.metrics.f1_score(y, ypred)\n",
    "\n",
    "    return f1_cutoff\n",
    "for cutoff in np.arange(0.1,0.9,0.1):\n",
    "    clf = RandomForestClassifier(n_estimators = 25)\n",
    "    validated = cross_val_score(clf ,X ,y ,cv = 10 , scoring = custom_f1(cutoff))\n",
    "    scores1.append(validated)\n"
   ]
  },
  {
   "cell_type": "code",
   "execution_count": 10,
   "metadata": {
    "collapsed": false
   },
   "outputs": [
    {
     "name": "stderr",
     "output_type": "stream",
     "text": [
      "C:\\ProgramData\\Anaconda3\\lib\\site-packages\\seaborn\\categorical.py:2171: UserWarning: The boxplot API has been changed. Attempting to adjust your arguments for the new API (which might not work). Please update your code. See the version 0.6 release notes for more info.\n",
      "  warnings.warn(msg, UserWarning)\n"
     ]
    },
    {
     "data": {
      "image/png": "[encoded data removed]",
      "text/plain": [
       "<matplotlib.figure.Figure at 0x232b45c59b0>"
      ]
     },
     "metadata": {},
     "output_type": "display_data"
    }
   ],
   "source": [
    "\n",
    "#print(scores1)\n",
    "df_score = pd.DataFrame(scores1, columns=['1', '2', '3','4','5','6','7','8','9','10'])\n",
    "\n",
    "# Transpose\n",
    "df_score_T = df_score.T\n",
    "df_score_T.columns = np.arange(0.1,0.9,0.1)\n",
    "\n",
    "\n",
    "sns.boxplot(df_score_T )\n",
    "plt.xlabel('Each cut off value')\n",
    "plt.ylabel('Custom F Score')\n",
    "plt.title('F Scores for each Cutoff value')\n",
    "\n",
    "plt.show()\n"
   ]
  },
  {
   "cell_type": "markdown",
   "metadata": {},
   "source": [
    "A cutoff of about 0.2-0.4 appears to give the best predictive performance. It is intuitive that the cutoff is less than 0.5 because the training data contains many fewer examples of “default” , so we need to adjust the classifier’s cutoff to reflect that fact that defaults are in general, rare."
   ]
  },
  {
   "cell_type": "code",
   "execution_count": 11,
   "metadata": {
    "collapsed": false
   },
   "outputs": [
    {
     "name": "stdout",
     "output_type": "stream",
     "text": [
      "Garbage collector: collected 54428 objects.\n"
     ]
    }
   ],
   "source": [
    "collected = gc.collect()\n",
    "print(\"Garbage collector: collected %d objects.\" % (collected))"
   ]
  },
  {
   "cell_type": "markdown",
   "metadata": {},
   "source": [
    "#### Visualizing The Decision Boundary\n",
    "\n",
    "One common visual summary of a classifier is its decision boundary.\n",
    "\n",
    "Random forests allow you to compute a heuristic for determining how “important” a feature is in predicting a target. This heuristic measures the change in prediction accuracy if you take a given feature and permute (scramble) it across the datapoints in the training set.Then plot a simple bar plot to  show the relative importance of the named features."
   ]
  },
  {
   "cell_type": "code",
   "execution_count": 12,
   "metadata": {
    "collapsed": false
   },
   "outputs": [
    {
     "data": {
      "image/png": "[encoded data removed]",
      "text/plain": [
       "<matplotlib.figure.Figure at 0x232b48152b0>"
      ]
     },
     "metadata": {},
     "output_type": "display_data"
    }
   ],
   "source": [
    "#a = df.ix[:, (df.columns != 'default payment next month') & (df.columns != 'target')]\n",
    "#print(a.columns)\n",
    "clf = RandomForestClassifier(n_estimators =25)\n",
    "clf.fit(X,y)\n",
    "\n",
    "imp = clf.feature_importances_\n",
    "names = df.columns\n",
    "\n",
    "imp,names = zip(*sorted(zip(imp,names)))\n",
    "\n",
    "plt.barh(range(len(names)),imp,align = 'center')\n",
    "plt.yticks(range(len(names)),names)\n",
    "\n",
    "plt.xlabel('Importance of features')\n",
    "plt.ylabel('Features')\n",
    "plt.title('Importance of each feature')\n",
    "plt.show()"
   ]
  },
  {
   "cell_type": "code",
   "execution_count": 13,
   "metadata": {
    "collapsed": false
   },
   "outputs": [],
   "source": [
    "\n",
    "def plot_decision_surface(clf,X,y):\n",
    "    plot_step = 0.1\n",
    "    \n",
    "    if X.shape[1] !=2:\n",
    "        raise ValueError(\"X_train should have exactly 2 columns!\")\n",
    "    \n",
    "    print('plot1')\n",
    "    x_min, x_max = X[:,0].min() - plot_step,X[:,0].max() + plot_step\n",
    "    y_min, y_max = X[:,1].min() - plot_step,X[:,1].max() + plot_step\n",
    "    xx,yy = np.meshgrid(np.arange(x_min,x_max,plot_step),\n",
    "                        np.arange(y_min,y_max,plot_step))\n",
    "    \n",
    "    clf.fit(X,y)\n",
    "    if hasattr(clf,'predict_proba'):\n",
    "        Z = clf.predict_proba(np.c_[xx.ravel(),yy.ravel()])[:,1]\n",
    "    else:\n",
    "        Z = clf.predict(np.c_[xx.ravel(),yy.ravel()])\n",
    "        \n",
    "    Z = Z.reshape(xx.shape)\n",
    "    cs = plt.contourf(xx ,yy ,Z ,cmap = plt.cm.Reds)\n",
    "    plt.scatter(X[:,0],X[:,1],c = y, cmap = plt.cm.Paired)\n",
    "    plt.show()\n",
    "    "
   ]
  },
  {
   "cell_type": "code",
   "execution_count": 14,
   "metadata": {
    "collapsed": false
   },
   "outputs": [
    {
     "name": "stdout",
     "output_type": "stream",
     "text": [
      "plot1\n"
     ]
    },
    {
     "ename": "MemoryError",
     "evalue": "",
     "output_type": "error",
     "traceback": [
      "\u001b[0;31m---------------------------------------------------------------------------\u001b[0m",
      "\u001b[0;31mMemoryError\u001b[0m                               Traceback (most recent call last)",
      "\u001b[0;32m<ipython-input-14-ae57d0c72dc2>\u001b[0m in \u001b[0;36m<module>\u001b[0;34m()\u001b[0m\n\u001b[1;32m     11\u001b[0m     \u001b[0mplt\u001b[0m\u001b[1;33m.\u001b[0m\u001b[0mxlabel\u001b[0m\u001b[1;33m(\u001b[0m\u001b[1;34m'Feature1'\u001b[0m\u001b[1;33m)\u001b[0m\u001b[1;33m\u001b[0m\u001b[0m\n\u001b[1;32m     12\u001b[0m     \u001b[0mplt\u001b[0m\u001b[1;33m.\u001b[0m\u001b[0mylabel\u001b[0m\u001b[1;33m(\u001b[0m\u001b[1;34m'Feature 2'\u001b[0m\u001b[1;33m)\u001b[0m\u001b[1;33m\u001b[0m\u001b[0m\n\u001b[0;32m---> 13\u001b[0;31m     \u001b[0mplot_decision_surface\u001b[0m\u001b[1;33m(\u001b[0m\u001b[0malgorithims\u001b[0m\u001b[1;33m[\u001b[0m\u001b[0mi\u001b[0m\u001b[1;33m]\u001b[0m\u001b[1;33m,\u001b[0m\u001b[0mX_imp\u001b[0m\u001b[1;33m,\u001b[0m\u001b[0my\u001b[0m\u001b[1;33m)\u001b[0m\u001b[1;33m\u001b[0m\u001b[0m\n\u001b[0m",
      "\u001b[0;32m<ipython-input-13-3adb9573a0c9>\u001b[0m in \u001b[0;36mplot_decision_surface\u001b[0;34m(clf, X, y)\u001b[0m\n\u001b[1;32m     10\u001b[0m     \u001b[0my_min\u001b[0m\u001b[1;33m,\u001b[0m \u001b[0my_max\u001b[0m \u001b[1;33m=\u001b[0m \u001b[0mX\u001b[0m\u001b[1;33m[\u001b[0m\u001b[1;33m:\u001b[0m\u001b[1;33m,\u001b[0m\u001b[1;36m1\u001b[0m\u001b[1;33m]\u001b[0m\u001b[1;33m.\u001b[0m\u001b[0mmin\u001b[0m\u001b[1;33m(\u001b[0m\u001b[1;33m)\u001b[0m \u001b[1;33m-\u001b[0m \u001b[0mplot_step\u001b[0m\u001b[1;33m,\u001b[0m\u001b[0mX\u001b[0m\u001b[1;33m[\u001b[0m\u001b[1;33m:\u001b[0m\u001b[1;33m,\u001b[0m\u001b[1;36m1\u001b[0m\u001b[1;33m]\u001b[0m\u001b[1;33m.\u001b[0m\u001b[0mmax\u001b[0m\u001b[1;33m(\u001b[0m\u001b[1;33m)\u001b[0m \u001b[1;33m+\u001b[0m \u001b[0mplot_step\u001b[0m\u001b[1;33m\u001b[0m\u001b[0m\n\u001b[1;32m     11\u001b[0m     xx,yy = np.meshgrid(np.arange(x_min,x_max,plot_step),\n\u001b[0;32m---> 12\u001b[0;31m                         np.arange(y_min,y_max,plot_step))\n\u001b[0m\u001b[1;32m     13\u001b[0m \u001b[1;33m\u001b[0m\u001b[0m\n\u001b[1;32m     14\u001b[0m     \u001b[0mclf\u001b[0m\u001b[1;33m.\u001b[0m\u001b[0mfit\u001b[0m\u001b[1;33m(\u001b[0m\u001b[0mX\u001b[0m\u001b[1;33m,\u001b[0m\u001b[0my\u001b[0m\u001b[1;33m)\u001b[0m\u001b[1;33m\u001b[0m\u001b[0m\n",
      "\u001b[0;32mC:\\ProgramData\\Anaconda3\\lib\\site-packages\\numpy\\lib\\function_base.py\u001b[0m in \u001b[0;36mmeshgrid\u001b[0;34m(*xi, **kwargs)\u001b[0m\n\u001b[1;32m   4113\u001b[0m         \u001b[1;31m# Return the full N-D matrix (not only the 1-D vector)\u001b[0m\u001b[1;33m\u001b[0m\u001b[1;33m\u001b[0m\u001b[0m\n\u001b[1;32m   4114\u001b[0m         \u001b[1;32mif\u001b[0m \u001b[0mcopy_\u001b[0m\u001b[1;33m:\u001b[0m\u001b[1;33m\u001b[0m\u001b[0m\n\u001b[0;32m-> 4115\u001b[0;31m             \u001b[0mmult_fact\u001b[0m \u001b[1;33m=\u001b[0m \u001b[0mnp\u001b[0m\u001b[1;33m.\u001b[0m\u001b[0mones\u001b[0m\u001b[1;33m(\u001b[0m\u001b[0mshape\u001b[0m\u001b[1;33m,\u001b[0m \u001b[0mdtype\u001b[0m\u001b[1;33m=\u001b[0m\u001b[0mint\u001b[0m\u001b[1;33m)\u001b[0m\u001b[1;33m\u001b[0m\u001b[0m\n\u001b[0m\u001b[1;32m   4116\u001b[0m             \u001b[1;32mreturn\u001b[0m \u001b[1;33m[\u001b[0m\u001b[0mx\u001b[0m \u001b[1;33m*\u001b[0m \u001b[0mmult_fact\u001b[0m \u001b[1;32mfor\u001b[0m \u001b[0mx\u001b[0m \u001b[1;32min\u001b[0m \u001b[0moutput\u001b[0m\u001b[1;33m]\u001b[0m\u001b[1;33m\u001b[0m\u001b[0m\n\u001b[1;32m   4117\u001b[0m         \u001b[1;32melse\u001b[0m\u001b[1;33m:\u001b[0m\u001b[1;33m\u001b[0m\u001b[0m\n",
      "\u001b[0;32mC:\\ProgramData\\Anaconda3\\lib\\site-packages\\numpy\\core\\numeric.py\u001b[0m in \u001b[0;36mones\u001b[0;34m(shape, dtype, order)\u001b[0m\n\u001b[1;32m    188\u001b[0m \u001b[1;33m\u001b[0m\u001b[0m\n\u001b[1;32m    189\u001b[0m     \"\"\"\n\u001b[0;32m--> 190\u001b[0;31m     \u001b[0ma\u001b[0m \u001b[1;33m=\u001b[0m \u001b[0mempty\u001b[0m\u001b[1;33m(\u001b[0m\u001b[0mshape\u001b[0m\u001b[1;33m,\u001b[0m \u001b[0mdtype\u001b[0m\u001b[1;33m,\u001b[0m \u001b[0morder\u001b[0m\u001b[1;33m)\u001b[0m\u001b[1;33m\u001b[0m\u001b[0m\n\u001b[0m\u001b[1;32m    191\u001b[0m     \u001b[0mmultiarray\u001b[0m\u001b[1;33m.\u001b[0m\u001b[0mcopyto\u001b[0m\u001b[1;33m(\u001b[0m\u001b[0ma\u001b[0m\u001b[1;33m,\u001b[0m \u001b[1;36m1\u001b[0m\u001b[1;33m,\u001b[0m \u001b[0mcasting\u001b[0m\u001b[1;33m=\u001b[0m\u001b[1;34m'unsafe'\u001b[0m\u001b[1;33m)\u001b[0m\u001b[1;33m\u001b[0m\u001b[0m\n\u001b[1;32m    192\u001b[0m     \u001b[1;32mreturn\u001b[0m \u001b[0ma\u001b[0m\u001b[1;33m\u001b[0m\u001b[0m\n",
      "\u001b[0;31mMemoryError\u001b[0m: "
     ]
    }
   ],
   "source": [
    "\n",
    "imp_fe = np.argsort(imp)[::-1][0:2]\n",
    "X_imp = X[:,imp_fe]\n",
    "\n",
    "algorithims = [DecisionTreeClassifier(), RandomForestClassifier() , sklearn.svm.SVC(C=100.0, gamma =1)]\n",
    "\n",
    "title = ['Decision Tree Classifier' ,'Random Forest Classifier' , 'Support Vector Machine']\n",
    "\n",
    "for i in range(3):\n",
    "    plt.title(title[i])\n",
    "    plt.xlabel('Feature1')\n",
    "    plt.ylabel('Feature 2')\n",
    "    plot_decision_surface(algorithims[i],X_imp,y)\n"
   ]
  }
 ],
 "metadata": {
  "kernelspec": {
   "display_name": "Python 3",
   "language": "python",
   "name": "python3"
  },
  "language_info": {
   "codemirror_mode": {
    "name": "ipython",
    "version": 3
   },
   "file_extension": ".py",
   "mimetype": "text/x-python",
   "name": "python",
   "nbconvert_exporter": "python",
   "pygments_lexer": "ipython3",
   "version": "3.6.0"
  }
 },
 "nbformat": 4,
 "nbformat_minor": 2
}
